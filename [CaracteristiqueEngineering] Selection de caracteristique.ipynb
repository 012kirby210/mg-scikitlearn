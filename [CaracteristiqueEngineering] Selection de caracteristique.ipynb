{
 "cells": [
  {
   "cell_type": "code",
   "execution_count": 1,
   "id": "cb017545",
   "metadata": {},
   "outputs": [],
   "source": [
    "%matplotlib inline\n",
    "# Dans le cas de jeux de données de grandes dimensions, une bonne idée est de réduire le nombre de dimension \n",
    "# pour se concentrer sur celles qui apportent le plus.\n",
    "# Pour sélectionner ces \"bonnes\" caractéristiques, on peut utiliser les stratégies suivantes : \n",
    "# - statistiques univariées\n",
    "# - sélection basée sur le modèle\n",
    "# - sélection itérative"
   ]
  },
  {
   "cell_type": "code",
   "execution_count": 4,
   "id": "a58c82b1",
   "metadata": {},
   "outputs": [
    {
     "name": "stdout",
     "output_type": "stream",
     "text": [
      "Caracteristiques shape : (284, 80)\n",
      "Caracteristiques exraites shape : (284, 40)\n"
     ]
    }
   ],
   "source": [
    "# Dans la sélection par 📊 univariées, on cherche par analyse de variance, s'il existe une \n",
    "# relation statistiquement signifiante entre les caractéristiques prises individuellement et la 🎯 \n",
    "# Les caractéristiques informatives lorsque combinées avec d'autres sont rejetées.\n",
    "\n",
    "from sklearn.datasets import load_breast_cancer\n",
    "from sklearn.feature_selection import SelectPercentile\n",
    "from sklearn.model_selection import train_test_split\n",
    "import numpy as np\n",
    "\n",
    "cancer_dataset = load_breast_cancer()\n",
    "rng = np.random.RandomState(42)\n",
    "noise = rng.normal(size=(len(cancer_dataset.data), 50))\n",
    "X_with_noise = np.hstack([cancer_dataset.data,noise])\n",
    "\n",
    "X_train,X_test,y_train,y_test = train_test_split(X_with_noise, cancer_dataset.target,\n",
    "                                                random_state=0, test_size=.5)\n",
    "select = SelectPercentile(percentile=50)\n",
    "select.fit(X_train,y_train)\n",
    "X_train_selected = select.transform(X_train)\n",
    "\n",
    "print(\"Caracteristiques shape : {}\".format(X_train.shape))\n",
    "print(\"Caracteristiques exraites shape : {}\".format(X_train_selected.shape))"
   ]
  },
  {
   "cell_type": "code",
   "execution_count": 9,
   "id": "239d37f2",
   "metadata": {},
   "outputs": [
    {
     "data": {
      "text/plain": [
       "([], [])"
      ]
     },
     "execution_count": 9,
     "metadata": {},
     "output_type": "execute_result"
    },
    {
     "data": {
      "image/png": "[encoded data removed]",
      "text/plain": [
       "<Figure size 1600x200 with 1 Axes>"
      ]
     },
     "metadata": {},
     "output_type": "display_data"
    }
   ],
   "source": [
    "# Quelles sont les caractéristiques qui ont été sélectionnées ?\n",
    "\n",
    "import matplotlib.pyplot as plt\n",
    "\n",
    "mask = select.get_support()\n",
    "plt.matshow(mask.reshape(1,-1),cmap='gray_r')\n",
    "plt.xlabel(\"Indice de l'échantillon\")\n",
    "plt.yticks(())"
   ]
  },
  {
   "cell_type": "code",
   "execution_count": 18,
   "id": "6c604011",
   "metadata": {},
   "outputs": [
    {
     "name": "stdout",
     "output_type": "stream",
     "text": [
      "Score pour les données avec bruit : 0.930\n",
      "Score pour les données sélectionnées : 0.940\n"
     ]
    }
   ],
   "source": [
    "# Peut-on comparer les modèles d'apprentissage par régression logistique \n",
    "# sur les données avec bruit et sélectionnées ?\n",
    "\n",
    "from sklearn.linear_model import LogisticRegression\n",
    "\n",
    "X_test_selected = select.transform(X_test)\n",
    "\n",
    "lr = LogisticRegression(solver='liblinear')\n",
    "lr.fit(X_train, y_train)\n",
    "print(\"Score pour les données avec bruit : {:,.3f}\".format(lr.score(X_test,y_test)))\n",
    "lr.fit(X_train_selected, y_train)\n",
    "print(\"Score pour les données sélectionnées : {:,.3f}\".format(lr.score(X_test_selected,y_test)))"
   ]
  }
 ],
 "metadata": {
  "kernelspec": {
   "display_name": "Python 3 (ipykernel)",
   "language": "python",
   "name": "python3"
  },
  "language_info": {
   "codemirror_mode": {
    "name": "ipython",
    "version": 3
   },
   "file_extension": ".py",
   "mimetype": "text/x-python",
   "name": "python",
   "nbconvert_exporter": "python",
   "pygments_lexer": "ipython3",
   "version": "3.11.4"
  }
 },
 "nbformat": 4,
 "nbformat_minor": 5
}
